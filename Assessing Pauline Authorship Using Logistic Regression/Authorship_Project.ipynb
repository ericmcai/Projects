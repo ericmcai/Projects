{
  "cells": [
    {
      "cell_type": "markdown",
      "metadata": {
        "id": "view-in-github",
        "colab_type": "text"
      },
      "source": [
        "<a href=\"https://colab.research.google.com/github/ericmcai/Projects/blob/main/Assessing_Pauline_Authorship_Using_Logistic_Regression.ipynb\" target=\"_parent\"><img src=\"https://colab.research.google.com/assets/colab-badge.svg\" alt=\"Open In Colab\"/></a>"
      ]
    },
    {
      "cell_type": "markdown",
      "id": "5cb0cd27",
      "metadata": {
        "id": "5cb0cd27"
      },
      "source": [
        "## Assessing Pauline Authorship of Disputed Texts Using Logistic Regression and NLP"
      ]
    },
    {
      "cell_type": "markdown",
      "id": "00e57661",
      "metadata": {
        "id": "00e57661"
      },
      "source": [
        "### Background\n",
        "\n",
        "This project was inspired by [Dr. Wei Hu's study of Pauline epistles in the New Testament using machine learning](https://www.scirp.org/journal/paperinformation.aspx?paperid=30473). Among modern, scholarly consensus, there are 7 letters that are undisputedly attributed to the apostle Paul: Romans, 1&2 Corinthians, Galatians, Philippians, 1 Thessalonians, and Philemon.\n",
        "\n",
        "The main reason for questioning the remaining 7 traditional Pauline epistles is stylistic differences, a point which N.T. Wright quite ably challenges in his <i> Paul and the Faithfulness of God</i>:\n",
        "\n",
        ">“I’ve never been very impressed with arguments like that. “Paul couldn’t have said this, because he never says this kind of thing, as far as we know.” But what if he just said it in the passage? Then it would be the kind of thing he would say. I find this to be especially problematic given the contextual nature of these letters. It strikes me as kind of like saying, C.S. Lewis couldn’t have written <i> The Space Trilogy </i> because he never talked about aliens in <i>The Chronicles of Narnia </i> and the former is written for adults and clearly the latter is for children. Or it’s like saying “Oh, Bob could never have talked about that with his girlfriend Gina. I know that because I know what he talks about with his mother”...Arguments from style are clearly important in principle. But they are hard to make in practice.” <i> I, 60.</i>\n",
        ">\n",
        "\n",
        "Point well taken. Nevertheless, as an exercise, the question that I want to consider is, \"Using the uncontested letters of the apostle Paul as our training data, could we discover any correlation or relationship with the disputed letters?\" On vocabulary and lexical frequency alone, not taking into account the dating, historicity, theology, or provenance of Paul's letters, could we uncover any relationship between the uncontested and contested letters?"
      ]
    },
    {
      "cell_type": "markdown",
      "id": "c5e401a8",
      "metadata": {
        "id": "c5e401a8"
      },
      "source": [
        "### Methods\n",
        "\n",
        "This project is best accomplished using the original Greek; however, processing languages for machine learning other than English is a nightmare, so I will be the NASB, given its idiosyncratic literal, wooden translation, as my source data. The source data can be found here: https://my-bible-study.appspot.com/.\n",
        "\n",
        "A logistic regression model is trained on a set of the apostle Paul's epistles where his authorship is undisputed, as well as a set of epistles where he is definitely not the author, like the Johannine letters. The sets will be randomly sampled to prevent biasing the model toward any specific part of the epistle, e.g. greeting, body, or closing.\n",
        "\n",
        "To test the model, a validation set will be used. Each verse from the disputed epistles set will be classified as likely having been written by Paul (authentic, boolean value of True) or not likely (inauthentic, boolean value of False)."
      ]
    },
    {
      "cell_type": "markdown",
      "id": "0e7c3b00",
      "metadata": {
        "id": "0e7c3b00"
      },
      "source": [
        "### Overall workflow\n",
        "\n",
        "<ol>\n",
        "    <li> Format source data </li>\n",
        "    <li> Create data sets </li>\n",
        "    <li> Train logistic model </li>\n",
        "    <li> Analyze predictions </li>\n",
        "</ol>"
      ]
    },
    {
      "cell_type": "markdown",
      "id": "9ea60f21",
      "metadata": {
        "id": "9ea60f21"
      },
      "source": [
        "### Format source data"
      ]
    },
    {
      "cell_type": "code",
      "execution_count": 2,
      "id": "f962daeb",
      "metadata": {
        "id": "f962daeb"
      },
      "outputs": [],
      "source": [
        "import pandas as pd\n",
        "import numpy as np\n",
        "from sklearn.feature_extraction.text import CountVectorizer\n",
        "from sklearn.feature_extraction.text import TfidfVectorizer\n",
        "from sklearn.metrics import accuracy_score\n",
        "from sklearn.model_selection import train_test_split\n",
        "from sklearn.linear_model import LogisticRegression"
      ]
    },
    {
      "cell_type": "markdown",
      "id": "51dc3c20",
      "metadata": {
        "id": "51dc3c20"
      },
      "source": [
        "The first step is to store and format the data into a dataframe using pandas."
      ]
    },
    {
      "cell_type": "code",
      "execution_count": 11,
      "id": "66a81092",
      "metadata": {
        "id": "66a81092",
        "colab": {
          "base_uri": "https://localhost:8080/"
        },
        "outputId": "48a1335f-fb00-4aaf-83c0-52ec1fa353c9"
      },
      "outputs": [
        {
          "output_type": "stream",
          "name": "stdout",
          "text": [
            "Mounted at /content/gdrive\n"
          ]
        }
      ],
      "source": [
        "from google.colab import drive\n",
        "drive.mount('/content/gdrive', force_remount=True)\n",
        "\n",
        "import string\n",
        "def normalize_string(s):\n",
        "    nones = [None] * len(string.punctuation)\n",
        "    table = {k: v for k, v in zip([char for char in string.punctuation], nones)}\n",
        "    return s.translate(str.maketrans(table)).lower()\n",
        "\n",
        "import io\n",
        "nasb = pd.read_csv('/content/gdrive/MyDrive/Colab Notebooks/Logistic Regression Project/NASB_fixed.csv', header=None)\n",
        "nasb.columns = ['id', 'chapter', 'verse', 'text']\n",
        "key = pd.read_csv('/content/gdrive/MyDrive/Colab Notebooks/Logistic Regression Project/key_english.csv')\n",
        "id_to_book = pd.Series(key['book'].values, index=key['id']).to_dict()\n",
        "nasb['book'] = nasb['id'].map(id_to_book)\n",
        "nasb['text'] = nasb['text'].apply(normalize_string)\n",
        "nasb = nasb[['id', 'book', 'chapter', 'verse', 'text']]"
      ]
    },
    {
      "cell_type": "markdown",
      "id": "b7d056a3",
      "metadata": {
        "id": "b7d056a3"
      },
      "source": [
        "### Create datasets"
      ]
    },
    {
      "cell_type": "markdown",
      "id": "4ddbf0a6",
      "metadata": {
        "id": "4ddbf0a6"
      },
      "source": [
        "As mentioned above in methods, the next step is to create our training and validation sets. The training set will comprise an equal amount of verses from the undisputed epistles of the apostle Paul and from those that are non-Pauline. Then, the validation data set will be used to test on the disputed letters of Paul."
      ]
    },
    {
      "cell_type": "markdown",
      "id": "83f16a3a",
      "metadata": {
        "id": "83f16a3a"
      },
      "source": [
        "#### Training Data"
      ]
    },
    {
      "cell_type": "code",
      "execution_count": 12,
      "id": "9ce661c3",
      "metadata": {
        "id": "9ce661c3",
        "colab": {
          "base_uri": "https://localhost:8080/"
        },
        "outputId": "0f04e6ee-3903-4fa6-e04b-34c4c3917f1b"
      },
      "outputs": [
        {
          "output_type": "stream",
          "name": "stdout",
          "text": [
            "Created dataset - Authentic\n",
            "       id    book  chapter  verse  \\\n",
            "27569  45  Romans        1      1   \n",
            "27570  45  Romans        1      2   \n",
            "27571  45  Romans        1      3   \n",
            "27572  45  Romans        1      4   \n",
            "27573  45  Romans        1      5   \n",
            "\n",
            "                                                    text  \n",
            "27569  paul a bondservant of christ jesus called as a...  \n",
            "27570  which he promised beforehand through his proph...  \n",
            "27571  concerning his son who was born of a descendan...  \n",
            "27572  who was declared the son of god with power by ...  \n",
            "27573  through whom we have received grace and apostl...  \n"
          ]
        }
      ],
      "source": [
        "# Creating training dataset - Authentic\n",
        "authentic = nasb.loc[\n",
        "    (nasb['book'] == 'Romans')|\n",
        "    (nasb['book'] == '1 Corinthians')|\n",
        "    (nasb['book'] == '2 Corinthians')|\n",
        "    (nasb['book'] == 'Galatians')|\n",
        "    (nasb['book'] == 'Philippians')|\n",
        "    (nasb['book'] == '1 Thessalonians')|\n",
        "    (nasb['book'] == 'Philemon')\\\n",
        "]\n",
        "\n",
        "authentic_sample_1 = authentic.sample(n=250, random_state=1)\n",
        "authentic_sample_2 = authentic.sample(n=250, random_state=2)\n",
        "authentic_sample_3 = authentic.sample(n=250, random_state=3)\n",
        "\n",
        "authentic_sample_1['authenticity'] = True\n",
        "authentic_sample_2['authenticity'] = True\n",
        "authentic_sample_3['authenticity'] = True\n",
        "\n",
        "print('Created dataset - Authentic')\n",
        "print(authentic.head())"
      ]
    },
    {
      "cell_type": "code",
      "execution_count": 13,
      "id": "9c732a5d",
      "metadata": {
        "id": "9c732a5d",
        "colab": {
          "base_uri": "https://localhost:8080/"
        },
        "outputId": "825e856f-ba50-4275-b1c5-9878abf4d1f5"
      },
      "outputs": [
        {
          "output_type": "stream",
          "name": "stdout",
          "text": [
            "Created dataset - Inauthentic\n"
          ]
        }
      ],
      "source": [
        "# Creating training dataset - Inauthentic\n",
        "inauthentic = nasb.loc[\n",
        "    (nasb['book'] == 'James')|\n",
        "    (nasb['book'] == '1 Peter')|\n",
        "    (nasb['book'] == '2 Peter')|\n",
        "    (nasb['book'] == '1 John')|\n",
        "    (nasb['book'] == '2 John')|\n",
        "    (nasb['book'] == '3 John')|\n",
        "    (nasb['book'] == 'Jude')\n",
        "]\n",
        "\n",
        "inauthentic_sample_1 = inauthentic.sample(n=250, random_state=1)\n",
        "inauthentic_sample_2 = inauthentic.sample(n=250, random_state=2)\n",
        "inauthentic_sample_3 = inauthentic.sample(n=250, random_state=3)\n",
        "\n",
        "inauthentic_sample_1['authenticity'] = False\n",
        "inauthentic_sample_2['authenticity'] = False\n",
        "inauthentic_sample_3['authenticity'] = False\n",
        "\n",
        "print('Created dataset - Inauthentic')"
      ]
    },
    {
      "cell_type": "code",
      "execution_count": 14,
      "id": "25b7376d",
      "metadata": {
        "id": "25b7376d",
        "colab": {
          "base_uri": "https://localhost:8080/"
        },
        "outputId": "27c5cb7c-c394-476e-de23-729770f77e29"
      },
      "outputs": [
        {
          "output_type": "stream",
          "name": "stdout",
          "text": [
            "Sets validated\n"
          ]
        }
      ],
      "source": [
        "# Creating validation sets\n",
        "\n",
        "pauline = pd.concat([\n",
        "    authentic_sample_1['id'],\n",
        "    authentic_sample_2['id'],\n",
        "    authentic_sample_3['id']\n",
        "], ignore_index=True)\n",
        "\n",
        "non_pauline = pd.concat([\n",
        "    inauthentic_sample_1['id'],\n",
        "    inauthentic_sample_2['id'],\n",
        "    inauthentic_sample_3['id']\n",
        "], ignore_index=True)\n",
        "\n",
        "validation_pauline = authentic[~authentic['id'].isin(pauline)]\n",
        "validation_nonpauline = inauthentic[~inauthentic['id'].isin(non_pauline)]\n",
        "print('Sets validated')"
      ]
    },
    {
      "cell_type": "markdown",
      "id": "918b0621",
      "metadata": {
        "id": "918b0621"
      },
      "source": [
        "#### Testing Data (Disputed Texts)"
      ]
    },
    {
      "cell_type": "code",
      "execution_count": 15,
      "id": "210dd5ca",
      "metadata": {
        "id": "210dd5ca",
        "outputId": "6b7feff7-49ee-487e-d3cb-706e97712fd8",
        "colab": {
          "base_uri": "https://localhost:8080/"
        }
      },
      "outputs": [
        {
          "output_type": "stream",
          "name": "stdout",
          "text": [
            "Testing dataset name: disputed\n"
          ]
        }
      ],
      "source": [
        "disputed = nasb.loc[\n",
        "    (nasb['book'] == 'Ephesians')|\n",
        "    (nasb['book'] == 'Colossians')|\n",
        "    (nasb['book'] == '2 Thessalonians')|\n",
        "    (nasb['book'] == '1 Timothy')|\n",
        "    (nasb['book'] == '2 Timothy')|\n",
        "    (nasb['book'] == 'Titus')\n",
        "]\n",
        "print('Testing dataset name: disputed')"
      ]
    },
    {
      "cell_type": "markdown",
      "id": "9d8c5f1f",
      "metadata": {
        "id": "9d8c5f1f"
      },
      "source": [
        "### Training Model"
      ]
    },
    {
      "cell_type": "code",
      "execution_count": 16,
      "id": "d3d3943c",
      "metadata": {
        "id": "d3d3943c",
        "outputId": "f50468fc-d64b-4985-b667-58c6735eec13",
        "colab": {
          "base_uri": "https://localhost:8080/"
        }
      },
      "outputs": [
        {
          "output_type": "stream",
          "name": "stdout",
          "text": [
            "Validation Accuracy: 0.85\n",
            "       id       book  chapter  verse  \\\n",
            "28841  49  Ephesians        1      1   \n",
            "28842  49  Ephesians        1      2   \n",
            "28843  49  Ephesians        1      3   \n",
            "28844  49  Ephesians        1      4   \n",
            "28845  49  Ephesians        1      5   \n",
            "...    ..        ...      ...    ...   \n",
            "29568  56      Titus        3     11   \n",
            "29569  56      Titus        3     12   \n",
            "29570  56      Titus        3     13   \n",
            "29571  56      Titus        3     14   \n",
            "29572  56      Titus        3     15   \n",
            "\n",
            "                                                    text  authenticity  \n",
            "28841  paul an apostle of christ jesus by the will of...          True  \n",
            "28842  grace to you and peace from god our father and...          True  \n",
            "28843  blessed be the god and father of our lord jesu...         False  \n",
            "28844  just as he chose us in him before the foundati...         False  \n",
            "28845  he predestined us to adoption as sons through ...          True  \n",
            "...                                                  ...           ...  \n",
            "29568  knowing that such a man is perverted and is si...         False  \n",
            "29569  when i send artemas or tychicus to you make ev...          True  \n",
            "29570  diligently help zenas the lawyer and apollos o...          True  \n",
            "29571  our people must also learn to engage in good d...         False  \n",
            "29572  all who are with me greet you greet those who ...          True  \n",
            "\n",
            "[539 rows x 6 columns]\n"
          ]
        }
      ],
      "source": [
        "# Combine\n",
        "authentic_training_data = pd.concat([authentic_sample_1,\n",
        "                                     authentic_sample_2,\n",
        "                                     authentic_sample_3],\n",
        "                                    ignore_index=True)\n",
        "inauthentic_training_data = pd.concat([inauthentic_sample_1,\n",
        "                                       inauthentic_sample_2,\n",
        "                                       inauthentic_sample_3],\n",
        "                                      ignore_index=True)\n",
        "combined = pd.concat([authentic_training_data,\n",
        "                      inauthentic_training_data],\n",
        "                     ignore_index=True)\n",
        "\n",
        "# Splitting traiining data into training and validating sets\n",
        "X_train, X_valid, y_train, y_valid = train_test_split(combined['text'],\n",
        "                                                      combined['authenticity'],\n",
        "                                                      test_size=0.2,\n",
        "                                                     random_state=42)\n",
        "\n",
        "# Vectorize\n",
        "vectorizer = CountVectorizer(stop_words=['is',\n",
        "                                         'in',\n",
        "                                         'therefore',\n",
        "                                         'on',\n",
        "                                         'and',\n",
        "                                         'by',\n",
        "                                         'with',\n",
        "                                         'from',\n",
        "                                         'to'])\n",
        "X_train = vectorizer.fit_transform(X_train)\n",
        "X_valid = vectorizer.transform(X_valid)\n",
        "y_labels = combined['authenticity']\n",
        "\n",
        "\n",
        "# Create the model and train the logistic regression model\n",
        "log_model = LogisticRegression(solver='liblinear')\n",
        "log_model.fit(X_train, y_train)\n",
        "\n",
        "# Calculate the accuracy of the model\n",
        "y_valid_pred = log_model.predict(X_valid)\n",
        "valid_accuracy = accuracy_score(y_valid, y_valid_pred)\n",
        "print(\"Validation Accuracy:\", valid_accuracy)\n",
        "\n",
        "# Vectorize test data\n",
        "X_test = vectorizer.transform(disputed['text'])\n",
        "\n",
        "# Predict the labels\n",
        "y_pred = log_model.predict(X_test)\n",
        "copy = disputed.copy()\n",
        "copy['authenticity'] = y_pred\n",
        "print(copy)"
      ]
    },
    {
      "cell_type": "markdown",
      "id": "7c071583",
      "metadata": {
        "id": "7c071583"
      },
      "source": [
        "## Analyzing the results"
      ]
    },
    {
      "cell_type": "code",
      "execution_count": 23,
      "id": "c2fedd8e",
      "metadata": {
        "id": "c2fedd8e",
        "outputId": "3dc3f63f-0c75-41e4-8b9f-86f7b4f7cdcc",
        "colab": {
          "base_uri": "https://localhost:8080/"
        }
      },
      "outputs": [
        {
          "output_type": "stream",
          "name": "stdout",
          "text": [
            "Pauline similarity by letter\n",
            "--------------------------\n",
            "book\n",
            "1 Timothy          0.592920\n",
            "2 Thessalonians    0.574468\n",
            "2 Timothy          0.698795\n",
            "Colossians         0.589474\n",
            "Ephesians          0.645161\n",
            "Titus              0.565217\n",
            "Name: authenticity, dtype: float64\n",
            "\n",
            "Average Similarity of all Disputed Letters\n",
            "0.6110059976081716\n",
            "\n",
            "Pauline similarity by chapter\n",
            "-------------------------------\n",
            "book             chapter\n",
            "1 Timothy        1          0.600000\n",
            "                 2          0.733333\n",
            "                 3          0.750000\n",
            "                 4          0.687500\n",
            "                 5          0.600000\n",
            "                 6          0.285714\n",
            "2 Thessalonians  1          0.500000\n",
            "                 2          0.705882\n",
            "                 3          0.500000\n",
            "2 Timothy        1          0.666667\n",
            "                 2          0.615385\n",
            "                 3          0.764706\n",
            "                 4          0.772727\n",
            "Colossians       1          0.724138\n",
            "                 2          0.565217\n",
            "                 3          0.640000\n",
            "                 4          0.333333\n",
            "Ephesians        1          0.565217\n",
            "                 2          0.500000\n",
            "                 3          0.809524\n",
            "                 4          0.625000\n",
            "                 5          0.787879\n",
            "                 6          0.541667\n",
            "Titus            1          0.500000\n",
            "                 2          0.733333\n",
            "                 3          0.466667\n",
            "Name: authenticity, dtype: float64\n",
            "\n",
            "Pauline similarity by \"Deutero-Pauline\" epistles\n",
            "--------------------------------------------------\n",
            "book\n",
            "2 Thessalonians    0.574468\n",
            "Colossians         0.589474\n",
            "Ephesians          0.645161\n",
            "Name: authenticity, dtype: float64\n",
            "\n",
            "Average of \"Deutero-Pauline\" epistles\n",
            "0.6030343532131632\n",
            "\n",
            "Pauline similarity by Pastoral epistles\n",
            "--------------------------------------------------\n",
            "book\n",
            "1 Timothy    0.592920\n",
            "2 Timothy    0.698795\n",
            "Titus        0.565217\n",
            "Name: authenticity, dtype: float64\n",
            "\n",
            "Average of Pastoral epistles\n",
            "0.6189776420031801\n"
          ]
        }
      ],
      "source": [
        "print('Pauline similarity by letter')\n",
        "print('--------------------------')\n",
        "print(copy.groupby('book')['authenticity'].mean())\n",
        "print('\\nAverage Similarity of all Disputed Letters')\n",
        "print((copy.groupby('book')['authenticity'].mean()).mean())\n",
        "print('\\nPauline similarity by chapter')\n",
        "print('-------------------------------')\n",
        "print(copy.groupby(['book', 'chapter'])['authenticity'].mean())\n",
        "print('\\nPauline similarity by \"Deutero-Pauline\" epistles')\n",
        "print('--------------------------------------------------')\n",
        "print(copy.loc[disputed['book'].isin(['2 Thessalonians', 'Colossians', 'Ephesians'])].groupby(['book'])['authenticity'].mean())\n",
        "print('\\nAverage of \"Deutero-Pauline\" epistles')\n",
        "print((copy.loc[disputed['book'].isin(['2 Thessalonians', 'Colossians', 'Ephesians'])].groupby(['book'])['authenticity'].mean()).mean())\n",
        "print('\\nPauline similarity by Pastoral epistles')\n",
        "print('--------------------------------------------------')\n",
        "print(copy.loc[disputed['book'].isin(['1 Timothy', '2 Timothy', 'Titus'])].groupby(['book'])['authenticity'].mean())\n",
        "print('\\nAverage of Pastoral epistles')\n",
        "print((copy.loc[disputed['book'].isin(['1 Timothy', '2 Timothy', 'Titus'])].groupby(['book'])['authenticity'].mean()).mean())\n"
      ]
    },
    {
      "cell_type": "markdown",
      "source": [
        "## Visualizing the Results"
      ],
      "metadata": {
        "id": "VwBGhhDK0_Hx"
      },
      "id": "VwBGhhDK0_Hx"
    },
    {
      "cell_type": "code",
      "source": [
        "import bokeh.io\n",
        "import bokeh.plotting\n",
        "import bokeh.palettes\n",
        "bokeh.io.output_notebook()"
      ],
      "metadata": {
        "id": "wysnaN49PFw7"
      },
      "id": "wysnaN49PFw7",
      "execution_count": 18,
      "outputs": []
    },
    {
      "cell_type": "code",
      "source": [
        "df = copy.groupby('book')['authenticity'].mean().reset_index()\n",
        "# plt\n",
        "# df.plot(kind='bar',\n",
        "#         x='Letter',\n",
        "#         y='Authenticity',\n",
        "#         color='blue')\n",
        "# plt.title('Bar Plot of Pauline Authenticity')\n",
        "# plt.show()\n",
        "\n",
        "#bokeh\n",
        "epistles = df['book'].tolist()\n",
        "authenticity = df['authenticity'].tolist()\n",
        "\n",
        "from bokeh.models import ColumnDataSource\n",
        "from bokeh.palettes import Spectral, BuGn\n",
        "from bokeh.plotting import figure, show, output_file\n",
        "from bokeh.transform import factor_cmap\n",
        "\n",
        "source = ColumnDataSource(data=dict(epistles=epistles, authenticity=authenticity))\n",
        "p = figure(x_range=epistles,title=\"Pauline similarity by letter\")\n",
        "p.vbar(x='epistles',\n",
        "       top='authenticity',\n",
        "       width=0.9, source=source,\n",
        "       legend_field = 'epistles',\n",
        "       line_color='white',\n",
        "       fill_color=factor_cmap('epistles', palette=Spectral[6], factors=epistles))\n",
        "p.xgrid.grid_line_color = None\n",
        "p.y_range.start = 0\n",
        "p.y_range.end = 1\n",
        "p.legend.orientation = \"horizontal\"\n",
        "p.legend.location = \"top_center\"\n",
        "output_file('similarity.html')\n",
        "show(p)\n",
        "\n",
        "# sorting\n",
        "sorted_epistles = sorted(epistles, key=lambda x:authenticity[epistles.index(x)])\n",
        "p_sorted = figure(x_range=sorted_epistles, title='Similarity (from least to greatest)')\n",
        "p_sorted.vbar(x='epistles',\n",
        "       top='authenticity',\n",
        "       width=0.9, source=source,\n",
        "       legend_field = 'epistles',\n",
        "       line_color='white',\n",
        "       fill_color=factor_cmap('epistles', palette=Spectral[6], factors=epistles))\n",
        "p_sorted.xgrid.grid_line_color = None\n",
        "p_sorted.y_range.start = 0\n",
        "p_sorted.y_range.end = 1\n",
        "p_sorted.legend.orientation = \"horizontal\"\n",
        "p_sorted.legend.location = \"top_center\"\n",
        "output_file('most similar.html')\n",
        "show(p_sorted)"
      ],
      "metadata": {
        "colab": {
          "base_uri": "https://localhost:8080/",
          "height": 1000
        },
        "id": "LWgkF06n0-vg",
        "outputId": "d5450a54-0603-43ef-b4f4-15c43dee493b"
      },
      "id": "LWgkF06n0-vg",
      "execution_count": 20,
      "outputs": [
        {
          "output_type": "display_data",
          "data": {
            "application/javascript": [
              "(function(root) {\n",
              "  function now() {\n",
              "    return new Date();\n",
              "  }\n",
              "\n",
              "  const force = true;\n",
              "\n",
              "  if (typeof root._bokeh_onload_callbacks === \"undefined\" || force === true) {\n",
              "    root._bokeh_onload_callbacks = [];\n",
              "    root._bokeh_is_loading = undefined;\n",
              "  }\n",
              "\n",
              "const JS_MIME_TYPE = 'application/javascript';\n",
              "  const HTML_MIME_TYPE = 'text/html';\n",
              "  const EXEC_MIME_TYPE = 'application/vnd.bokehjs_exec.v0+json';\n",
              "  const CLASS_NAME = 'output_bokeh rendered_html';\n",
              "\n",
              "  /**\n",
              "   * Render data to the DOM node\n",
              "   */\n",
              "  function render(props, node) {\n",
              "    const script = document.createElement(\"script\");\n",
              "    node.appendChild(script);\n",
              "  }\n",
              "\n",
              "  /**\n",
              "   * Handle when an output is cleared or removed\n",
              "   */\n",
              "  function handleClearOutput(event, handle) {\n",
              "    const cell = handle.cell;\n",
              "\n",
              "    const id = cell.output_area._bokeh_element_id;\n",
              "    const server_id = cell.output_area._bokeh_server_id;\n",
              "    // Clean up Bokeh references\n",
              "    if (id != null && id in Bokeh.index) {\n",
              "      Bokeh.index[id].model.document.clear();\n",
              "      delete Bokeh.index[id];\n",
              "    }\n",
              "\n",
              "    if (server_id !== undefined) {\n",
              "      // Clean up Bokeh references\n",
              "      const cmd_clean = \"from bokeh.io.state import curstate; print(curstate().uuid_to_server['\" + server_id + \"'].get_sessions()[0].document.roots[0]._id)\";\n",
              "      cell.notebook.kernel.execute(cmd_clean, {\n",
              "        iopub: {\n",
              "          output: function(msg) {\n",
              "            const id = msg.content.text.trim();\n",
              "            if (id in Bokeh.index) {\n",
              "              Bokeh.index[id].model.document.clear();\n",
              "              delete Bokeh.index[id];\n",
              "            }\n",
              "          }\n",
              "        }\n",
              "      });\n",
              "      // Destroy server and session\n",
              "      const cmd_destroy = \"import bokeh.io.notebook as ion; ion.destroy_server('\" + server_id + \"')\";\n",
              "      cell.notebook.kernel.execute(cmd_destroy);\n",
              "    }\n",
              "  }\n",
              "\n",
              "  /**\n",
              "   * Handle when a new output is added\n",
              "   */\n",
              "  function handleAddOutput(event, handle) {\n",
              "    const output_area = handle.output_area;\n",
              "    const output = handle.output;\n",
              "\n",
              "    // limit handleAddOutput to display_data with EXEC_MIME_TYPE content only\n",
              "    if ((output.output_type != \"display_data\") || (!Object.prototype.hasOwnProperty.call(output.data, EXEC_MIME_TYPE))) {\n",
              "      return\n",
              "    }\n",
              "\n",
              "    const toinsert = output_area.element.find(\".\" + CLASS_NAME.split(' ')[0]);\n",
              "\n",
              "    if (output.metadata[EXEC_MIME_TYPE][\"id\"] !== undefined) {\n",
              "      toinsert[toinsert.length - 1].firstChild.textContent = output.data[JS_MIME_TYPE];\n",
              "      // store reference to embed id on output_area\n",
              "      output_area._bokeh_element_id = output.metadata[EXEC_MIME_TYPE][\"id\"];\n",
              "    }\n",
              "    if (output.metadata[EXEC_MIME_TYPE][\"server_id\"] !== undefined) {\n",
              "      const bk_div = document.createElement(\"div\");\n",
              "      bk_div.innerHTML = output.data[HTML_MIME_TYPE];\n",
              "      const script_attrs = bk_div.children[0].attributes;\n",
              "      for (let i = 0; i < script_attrs.length; i++) {\n",
              "        toinsert[toinsert.length - 1].firstChild.setAttribute(script_attrs[i].name, script_attrs[i].value);\n",
              "        toinsert[toinsert.length - 1].firstChild.textContent = bk_div.children[0].textContent\n",
              "      }\n",
              "      // store reference to server id on output_area\n",
              "      output_area._bokeh_server_id = output.metadata[EXEC_MIME_TYPE][\"server_id\"];\n",
              "    }\n",
              "  }\n",
              "\n",
              "  function register_renderer(events, OutputArea) {\n",
              "\n",
              "    function append_mime(data, metadata, element) {\n",
              "      // create a DOM node to render to\n",
              "      const toinsert = this.create_output_subarea(\n",
              "        metadata,\n",
              "        CLASS_NAME,\n",
              "        EXEC_MIME_TYPE\n",
              "      );\n",
              "      this.keyboard_manager.register_events(toinsert);\n",
              "      // Render to node\n",
              "      const props = {data: data, metadata: metadata[EXEC_MIME_TYPE]};\n",
              "      render(props, toinsert[toinsert.length - 1]);\n",
              "      element.append(toinsert);\n",
              "      return toinsert\n",
              "    }\n",
              "\n",
              "    /* Handle when an output is cleared or removed */\n",
              "    events.on('clear_output.CodeCell', handleClearOutput);\n",
              "    events.on('delete.Cell', handleClearOutput);\n",
              "\n",
              "    /* Handle when a new output is added */\n",
              "    events.on('output_added.OutputArea', handleAddOutput);\n",
              "\n",
              "    /**\n",
              "     * Register the mime type and append_mime function with output_area\n",
              "     */\n",
              "    OutputArea.prototype.register_mime_type(EXEC_MIME_TYPE, append_mime, {\n",
              "      /* Is output safe? */\n",
              "      safe: true,\n",
              "      /* Index of renderer in `output_area.display_order` */\n",
              "      index: 0\n",
              "    });\n",
              "  }\n",
              "\n",
              "  // register the mime type if in Jupyter Notebook environment and previously unregistered\n",
              "  if (root.Jupyter !== undefined) {\n",
              "    const events = require('base/js/events');\n",
              "    const OutputArea = require('notebook/js/outputarea').OutputArea;\n",
              "\n",
              "    if (OutputArea.prototype.mime_types().indexOf(EXEC_MIME_TYPE) == -1) {\n",
              "      register_renderer(events, OutputArea);\n",
              "    }\n",
              "  }\n",
              "  if (typeof (root._bokeh_timeout) === \"undefined\" || force === true) {\n",
              "    root._bokeh_timeout = Date.now() + 5000;\n",
              "    root._bokeh_failed_load = false;\n",
              "  }\n",
              "\n",
              "  const NB_LOAD_WARNING = {'data': {'text/html':\n",
              "     \"<div style='background-color: #fdd'>\\n\"+\n",
              "     \"<p>\\n\"+\n",
              "     \"BokehJS does not appear to have successfully loaded. If loading BokehJS from CDN, this \\n\"+\n",
              "     \"may be due to a slow or bad network connection. Possible fixes:\\n\"+\n",
              "     \"</p>\\n\"+\n",
              "     \"<ul>\\n\"+\n",
              "     \"<li>re-rerun `output_notebook()` to attempt to load from CDN again, or</li>\\n\"+\n",
              "     \"<li>use INLINE resources instead, as so:</li>\\n\"+\n",
              "     \"</ul>\\n\"+\n",
              "     \"<code>\\n\"+\n",
              "     \"from bokeh.resources import INLINE\\n\"+\n",
              "     \"output_notebook(resources=INLINE)\\n\"+\n",
              "     \"</code>\\n\"+\n",
              "     \"</div>\"}};\n",
              "\n",
              "  function display_loaded() {\n",
              "    const el = document.getElementById(null);\n",
              "    if (el != null) {\n",
              "      el.textContent = \"BokehJS is loading...\";\n",
              "    }\n",
              "    if (root.Bokeh !== undefined) {\n",
              "      if (el != null) {\n",
              "        el.textContent = \"BokehJS \" + root.Bokeh.version + \" successfully loaded.\";\n",
              "      }\n",
              "    } else if (Date.now() < root._bokeh_timeout) {\n",
              "      setTimeout(display_loaded, 100)\n",
              "    }\n",
              "  }\n",
              "\n",
              "  function run_callbacks() {\n",
              "    try {\n",
              "      root._bokeh_onload_callbacks.forEach(function(callback) {\n",
              "        if (callback != null)\n",
              "          callback();\n",
              "      });\n",
              "    } finally {\n",
              "      delete root._bokeh_onload_callbacks\n",
              "    }\n",
              "    console.debug(\"Bokeh: all callbacks have finished\");\n",
              "  }\n",
              "\n",
              "  function load_libs(css_urls, js_urls, callback) {\n",
              "    if (css_urls == null) css_urls = [];\n",
              "    if (js_urls == null) js_urls = [];\n",
              "\n",
              "    root._bokeh_onload_callbacks.push(callback);\n",
              "    if (root._bokeh_is_loading > 0) {\n",
              "      console.debug(\"Bokeh: BokehJS is being loaded, scheduling callback at\", now());\n",
              "      return null;\n",
              "    }\n",
              "    if (js_urls == null || js_urls.length === 0) {\n",
              "      run_callbacks();\n",
              "      return null;\n",
              "    }\n",
              "    console.debug(\"Bokeh: BokehJS not loaded, scheduling load and callback at\", now());\n",
              "    root._bokeh_is_loading = css_urls.length + js_urls.length;\n",
              "\n",
              "    function on_load() {\n",
              "      root._bokeh_is_loading--;\n",
              "      if (root._bokeh_is_loading === 0) {\n",
              "        console.debug(\"Bokeh: all BokehJS libraries/stylesheets loaded\");\n",
              "        run_callbacks()\n",
              "      }\n",
              "    }\n",
              "\n",
              "    function on_error(url) {\n",
              "      console.error(\"failed to load \" + url);\n",
              "    }\n",
              "\n",
              "    for (let i = 0; i < css_urls.length; i++) {\n",
              "      const url = css_urls[i];\n",
              "      const element = document.createElement(\"link\");\n",
              "      element.onload = on_load;\n",
              "      element.onerror = on_error.bind(null, url);\n",
              "      element.rel = \"stylesheet\";\n",
              "      element.type = \"text/css\";\n",
              "      element.href = url;\n",
              "      console.debug(\"Bokeh: injecting link tag for BokehJS stylesheet: \", url);\n",
              "      document.body.appendChild(element);\n",
              "    }\n",
              "\n",
              "    for (let i = 0; i < js_urls.length; i++) {\n",
              "      const url = js_urls[i];\n",
              "      const element = document.createElement('script');\n",
              "      element.onload = on_load;\n",
              "      element.onerror = on_error.bind(null, url);\n",
              "      element.async = false;\n",
              "      element.src = url;\n",
              "      console.debug(\"Bokeh: injecting script tag for BokehJS library: \", url);\n",
              "      document.head.appendChild(element);\n",
              "    }\n",
              "  };\n",
              "\n",
              "  function inject_raw_css(css) {\n",
              "    const element = document.createElement(\"style\");\n",
              "    element.appendChild(document.createTextNode(css));\n",
              "    document.body.appendChild(element);\n",
              "  }\n",
              "\n",
              "  const js_urls = [\"https://cdn.bokeh.org/bokeh/release/bokeh-2.4.3.min.js\", \"https://cdn.bokeh.org/bokeh/release/bokeh-gl-2.4.3.min.js\", \"https://cdn.bokeh.org/bokeh/release/bokeh-widgets-2.4.3.min.js\", \"https://cdn.bokeh.org/bokeh/release/bokeh-tables-2.4.3.min.js\", \"https://cdn.bokeh.org/bokeh/release/bokeh-mathjax-2.4.3.min.js\"];\n",
              "  const css_urls = [];\n",
              "\n",
              "  const inline_js = [    function(Bokeh) {\n",
              "      Bokeh.set_log_level(\"info\");\n",
              "    },\n",
              "function(Bokeh) {\n",
              "    }\n",
              "  ];\n",
              "\n",
              "  function run_inline_js() {\n",
              "    if (root.Bokeh !== undefined || force === true) {\n",
              "          for (let i = 0; i < inline_js.length; i++) {\n",
              "      inline_js[i].call(root, root.Bokeh);\n",
              "    }\n",
              "} else if (Date.now() < root._bokeh_timeout) {\n",
              "      setTimeout(run_inline_js, 100);\n",
              "    } else if (!root._bokeh_failed_load) {\n",
              "      console.log(\"Bokeh: BokehJS failed to load within specified timeout.\");\n",
              "      root._bokeh_failed_load = true;\n",
              "    } else if (force !== true) {\n",
              "      const cell = $(document.getElementById(null)).parents('.cell').data().cell;\n",
              "      cell.output_area.append_execute_result(NB_LOAD_WARNING)\n",
              "    }\n",
              "  }\n",
              "\n",
              "  if (root._bokeh_is_loading === 0) {\n",
              "    console.debug(\"Bokeh: BokehJS loaded, going straight to plotting\");\n",
              "    run_inline_js();\n",
              "  } else {\n",
              "    load_libs(css_urls, js_urls, function() {\n",
              "      console.debug(\"Bokeh: BokehJS plotting callback run at\", now());\n",
              "      run_inline_js();\n",
              "    });\n",
              "  }\n",
              "}(window));"
            ],
            "application/vnd.bokehjs_load.v0+json": "(function(root) {\n  function now() {\n    return new Date();\n  }\n\n  const force = true;\n\n  if (typeof root._bokeh_onload_callbacks === \"undefined\" || force === true) {\n    root._bokeh_onload_callbacks = [];\n    root._bokeh_is_loading = undefined;\n  }\n\n\n  if (typeof (root._bokeh_timeout) === \"undefined\" || force === true) {\n    root._bokeh_timeout = Date.now() + 5000;\n    root._bokeh_failed_load = false;\n  }\n\n  const NB_LOAD_WARNING = {'data': {'text/html':\n     \"<div style='background-color: #fdd'>\\n\"+\n     \"<p>\\n\"+\n     \"BokehJS does not appear to have successfully loaded. If loading BokehJS from CDN, this \\n\"+\n     \"may be due to a slow or bad network connection. Possible fixes:\\n\"+\n     \"</p>\\n\"+\n     \"<ul>\\n\"+\n     \"<li>re-rerun `output_notebook()` to attempt to load from CDN again, or</li>\\n\"+\n     \"<li>use INLINE resources instead, as so:</li>\\n\"+\n     \"</ul>\\n\"+\n     \"<code>\\n\"+\n     \"from bokeh.resources import INLINE\\n\"+\n     \"output_notebook(resources=INLINE)\\n\"+\n     \"</code>\\n\"+\n     \"</div>\"}};\n\n  function display_loaded() {\n    const el = document.getElementById(null);\n    if (el != null) {\n      el.textContent = \"BokehJS is loading...\";\n    }\n    if (root.Bokeh !== undefined) {\n      if (el != null) {\n        el.textContent = \"BokehJS \" + root.Bokeh.version + \" successfully loaded.\";\n      }\n    } else if (Date.now() < root._bokeh_timeout) {\n      setTimeout(display_loaded, 100)\n    }\n  }\n\n  function run_callbacks() {\n    try {\n      root._bokeh_onload_callbacks.forEach(function(callback) {\n        if (callback != null)\n          callback();\n      });\n    } finally {\n      delete root._bokeh_onload_callbacks\n    }\n    console.debug(\"Bokeh: all callbacks have finished\");\n  }\n\n  function load_libs(css_urls, js_urls, callback) {\n    if (css_urls == null) css_urls = [];\n    if (js_urls == null) js_urls = [];\n\n    root._bokeh_onload_callbacks.push(callback);\n    if (root._bokeh_is_loading > 0) {\n      console.debug(\"Bokeh: BokehJS is being loaded, scheduling callback at\", now());\n      return null;\n    }\n    if (js_urls == null || js_urls.length === 0) {\n      run_callbacks();\n      return null;\n    }\n    console.debug(\"Bokeh: BokehJS not loaded, scheduling load and callback at\", now());\n    root._bokeh_is_loading = css_urls.length + js_urls.length;\n\n    function on_load() {\n      root._bokeh_is_loading--;\n      if (root._bokeh_is_loading === 0) {\n        console.debug(\"Bokeh: all BokehJS libraries/stylesheets loaded\");\n        run_callbacks()\n      }\n    }\n\n    function on_error(url) {\n      console.error(\"failed to load \" + url);\n    }\n\n    for (let i = 0; i < css_urls.length; i++) {\n      const url = css_urls[i];\n      const element = document.createElement(\"link\");\n      element.onload = on_load;\n      element.onerror = on_error.bind(null, url);\n      element.rel = \"stylesheet\";\n      element.type = \"text/css\";\n      element.href = url;\n      console.debug(\"Bokeh: injecting link tag for BokehJS stylesheet: \", url);\n      document.body.appendChild(element);\n    }\n\n    for (let i = 0; i < js_urls.length; i++) {\n      const url = js_urls[i];\n      const element = document.createElement('script');\n      element.onload = on_load;\n      element.onerror = on_error.bind(null, url);\n      element.async = false;\n      element.src = url;\n      console.debug(\"Bokeh: injecting script tag for BokehJS library: \", url);\n      document.head.appendChild(element);\n    }\n  };\n\n  function inject_raw_css(css) {\n    const element = document.createElement(\"style\");\n    element.appendChild(document.createTextNode(css));\n    document.body.appendChild(element);\n  }\n\n  const js_urls = [\"https://cdn.bokeh.org/bokeh/release/bokeh-2.4.3.min.js\", \"https://cdn.bokeh.org/bokeh/release/bokeh-gl-2.4.3.min.js\", \"https://cdn.bokeh.org/bokeh/release/bokeh-widgets-2.4.3.min.js\", \"https://cdn.bokeh.org/bokeh/release/bokeh-tables-2.4.3.min.js\", \"https://cdn.bokeh.org/bokeh/release/bokeh-mathjax-2.4.3.min.js\"];\n  const css_urls = [];\n\n  const inline_js = [    function(Bokeh) {\n      Bokeh.set_log_level(\"info\");\n    },\nfunction(Bokeh) {\n    }\n  ];\n\n  function run_inline_js() {\n    if (root.Bokeh !== undefined || force === true) {\n          for (let i = 0; i < inline_js.length; i++) {\n      inline_js[i].call(root, root.Bokeh);\n    }\n} else if (Date.now() < root._bokeh_timeout) {\n      setTimeout(run_inline_js, 100);\n    } else if (!root._bokeh_failed_load) {\n      console.log(\"Bokeh: BokehJS failed to load within specified timeout.\");\n      root._bokeh_failed_load = true;\n    } else if (force !== true) {\n      const cell = $(document.getElementById(null)).parents('.cell').data().cell;\n      cell.output_area.append_execute_result(NB_LOAD_WARNING)\n    }\n  }\n\n  if (root._bokeh_is_loading === 0) {\n    console.debug(\"Bokeh: BokehJS loaded, going straight to plotting\");\n    run_inline_js();\n  } else {\n    load_libs(css_urls, js_urls, function() {\n      console.debug(\"Bokeh: BokehJS plotting callback run at\", now());\n      run_inline_js();\n    });\n  }\n}(window));"
          },
          "metadata": {}
        },
        {
          "output_type": "display_data",
          "data": {
            "text/html": [
              "\n",
              "  <div class=\"bk-root\" id=\"5a3f0a06-8f58-41a4-b832-285692f216fc\" data-root-id=\"1498\"></div>\n"
            ]
          },
          "metadata": {}
        },
        {
          "output_type": "display_data",
          "data": {
            "application/javascript": [
              "(function(root) {\n",
              "  function embed_document(root) {\n",
              "  const docs_json = {\"ad4d98ea-31dc-4459-83d2-075a11e7cc17\":{\"defs\":[],\"roots\":{\"references\":[{\"attributes\":{\"below\":[{\"id\":\"1509\"}],\"center\":[{\"id\":\"1511\"},{\"id\":\"1515\"},{\"id\":\"1547\"}],\"left\":[{\"id\":\"1512\"}],\"renderers\":[{\"id\":\"1535\"}],\"title\":{\"id\":\"1499\"},\"toolbar\":{\"id\":\"1523\"},\"x_range\":{\"id\":\"1501\"},\"x_scale\":{\"id\":\"1505\"},\"y_range\":{\"id\":\"1503\"},\"y_scale\":{\"id\":\"1507\"}},\"id\":\"1498\",\"subtype\":\"Figure\",\"type\":\"Plot\"},{\"attributes\":{\"source\":{\"id\":\"1497\"}},\"id\":\"1536\",\"type\":\"CDSView\"},{\"attributes\":{\"factors\":[\"1 Timothy\",\"2 Thessalonians\",\"2 Timothy\",\"Colossians\",\"Ephesians\",\"Titus\"]},\"id\":\"1501\",\"type\":\"FactorRange\"},{\"attributes\":{},\"id\":\"1543\",\"type\":\"AllLabels\"},{\"attributes\":{\"bottom_units\":\"screen\",\"coordinates\":null,\"fill_alpha\":0.5,\"fill_color\":\"lightgrey\",\"group\":null,\"left_units\":\"screen\",\"level\":\"overlay\",\"line_alpha\":1.0,\"line_color\":\"black\",\"line_dash\":[4,4],\"line_width\":2,\"right_units\":\"screen\",\"syncable\":false,\"top_units\":\"screen\"},\"id\":\"1522\",\"type\":\"BoxAnnotation\"},{\"attributes\":{\"fill_alpha\":{\"value\":0.2},\"fill_color\":{\"field\":\"epistles\",\"transform\":{\"id\":\"1530\"}},\"hatch_alpha\":{\"value\":0.2},\"line_alpha\":{\"value\":0.2},\"line_color\":{\"value\":\"white\"},\"top\":{\"field\":\"authenticity\"},\"width\":{\"value\":0.9},\"x\":{\"field\":\"epistles\"}},\"id\":\"1534\",\"type\":\"VBar\"},{\"attributes\":{},\"id\":\"1542\",\"type\":\"CategoricalTickFormatter\"},{\"attributes\":{},\"id\":\"1505\",\"type\":\"CategoricalScale\"},{\"attributes\":{\"fill_alpha\":{\"value\":0.1},\"fill_color\":{\"field\":\"epistles\",\"transform\":{\"id\":\"1530\"}},\"hatch_alpha\":{\"value\":0.1},\"line_alpha\":{\"value\":0.1},\"line_color\":{\"value\":\"white\"},\"top\":{\"field\":\"authenticity\"},\"width\":{\"value\":0.9},\"x\":{\"field\":\"epistles\"}},\"id\":\"1533\",\"type\":\"VBar\"},{\"attributes\":{\"factors\":[\"1 Timothy\",\"2 Thessalonians\",\"2 Timothy\",\"Colossians\",\"Ephesians\",\"Titus\"],\"palette\":[\"#3288bd\",\"#99d594\",\"#e6f598\",\"#fee08b\",\"#fc8d59\",\"#d53e4f\"]},\"id\":\"1530\",\"type\":\"CategoricalColorMapper\"},{\"attributes\":{\"fill_color\":{\"field\":\"epistles\",\"transform\":{\"id\":\"1530\"}},\"line_color\":{\"value\":\"white\"},\"top\":{\"field\":\"authenticity\"},\"width\":{\"value\":0.9},\"x\":{\"field\":\"epistles\"}},\"id\":\"1532\",\"type\":\"VBar\"},{\"attributes\":{\"data\":{\"authenticity\":[0.5929203539823009,0.574468085106383,0.6987951807228916,0.5894736842105263,0.6451612903225806,0.5652173913043478],\"epistles\":[\"1 Timothy\",\"2 Thessalonians\",\"2 Timothy\",\"Colossians\",\"Ephesians\",\"Titus\"]},\"selected\":{\"id\":\"1545\"},\"selection_policy\":{\"id\":\"1544\"}},\"id\":\"1497\",\"type\":\"ColumnDataSource\"},{\"attributes\":{\"coordinates\":null,\"group\":null,\"text\":\"Pauline similarity by letter\"},\"id\":\"1499\",\"type\":\"Title\"},{\"attributes\":{\"end\":1,\"start\":0},\"id\":\"1503\",\"type\":\"DataRange1d\"},{\"attributes\":{},\"id\":\"1540\",\"type\":\"AllLabels\"},{\"attributes\":{},\"id\":\"1510\",\"type\":\"CategoricalTicker\"},{\"attributes\":{\"coordinates\":null,\"formatter\":{\"id\":\"1542\"},\"group\":null,\"major_label_policy\":{\"id\":\"1543\"},\"ticker\":{\"id\":\"1510\"}},\"id\":\"1509\",\"type\":\"CategoricalAxis\"},{\"attributes\":{},\"id\":\"1544\",\"type\":\"UnionRenderers\"},{\"attributes\":{},\"id\":\"1520\",\"type\":\"ResetTool\"},{\"attributes\":{},\"id\":\"1519\",\"type\":\"SaveTool\"},{\"attributes\":{},\"id\":\"1513\",\"type\":\"BasicTicker\"},{\"attributes\":{\"label\":{\"field\":\"epistles\"},\"renderers\":[{\"id\":\"1535\"}]},\"id\":\"1548\",\"type\":\"LegendItem\"},{\"attributes\":{},\"id\":\"1545\",\"type\":\"Selection\"},{\"attributes\":{},\"id\":\"1516\",\"type\":\"PanTool\"},{\"attributes\":{\"axis\":{\"id\":\"1509\"},\"coordinates\":null,\"grid_line_color\":null,\"group\":null,\"ticker\":null},\"id\":\"1511\",\"type\":\"Grid\"},{\"attributes\":{},\"id\":\"1539\",\"type\":\"BasicTickFormatter\"},{\"attributes\":{\"coordinates\":null,\"formatter\":{\"id\":\"1539\"},\"group\":null,\"major_label_policy\":{\"id\":\"1540\"},\"ticker\":{\"id\":\"1513\"}},\"id\":\"1512\",\"type\":\"LinearAxis\"},{\"attributes\":{\"axis\":{\"id\":\"1512\"},\"coordinates\":null,\"dimension\":1,\"group\":null,\"ticker\":null},\"id\":\"1515\",\"type\":\"Grid\"},{\"attributes\":{\"tools\":[{\"id\":\"1516\"},{\"id\":\"1517\"},{\"id\":\"1518\"},{\"id\":\"1519\"},{\"id\":\"1520\"},{\"id\":\"1521\"}]},\"id\":\"1523\",\"type\":\"Toolbar\"},{\"attributes\":{\"overlay\":{\"id\":\"1522\"}},\"id\":\"1518\",\"type\":\"BoxZoomTool\"},{\"attributes\":{},\"id\":\"1521\",\"type\":\"HelpTool\"},{\"attributes\":{\"coordinates\":null,\"group\":null,\"items\":[{\"id\":\"1548\"}],\"location\":\"top_center\",\"orientation\":\"horizontal\"},\"id\":\"1547\",\"type\":\"Legend\"},{\"attributes\":{},\"id\":\"1517\",\"type\":\"WheelZoomTool\"},{\"attributes\":{},\"id\":\"1507\",\"type\":\"LinearScale\"},{\"attributes\":{\"coordinates\":null,\"data_source\":{\"id\":\"1497\"},\"glyph\":{\"id\":\"1532\"},\"group\":null,\"hover_glyph\":null,\"muted_glyph\":{\"id\":\"1534\"},\"nonselection_glyph\":{\"id\":\"1533\"},\"view\":{\"id\":\"1536\"}},\"id\":\"1535\",\"type\":\"GlyphRenderer\"}],\"root_ids\":[\"1498\"]},\"title\":\"Bokeh Application\",\"version\":\"2.4.3\"}};\n",
              "  const render_items = [{\"docid\":\"ad4d98ea-31dc-4459-83d2-075a11e7cc17\",\"root_ids\":[\"1498\"],\"roots\":{\"1498\":\"5a3f0a06-8f58-41a4-b832-285692f216fc\"}}];\n",
              "  root.Bokeh.embed.embed_items_notebook(docs_json, render_items);\n",
              "  }\n",
              "  if (root.Bokeh !== undefined) {\n",
              "    embed_document(root);\n",
              "  } else {\n",
              "    let attempts = 0;\n",
              "    const timer = setInterval(function(root) {\n",
              "      if (root.Bokeh !== undefined) {\n",
              "        clearInterval(timer);\n",
              "        embed_document(root);\n",
              "      } else {\n",
              "        attempts++;\n",
              "        if (attempts > 100) {\n",
              "          clearInterval(timer);\n",
              "          console.log(\"Bokeh: ERROR: Unable to run BokehJS code because BokehJS library is missing\");\n",
              "        }\n",
              "      }\n",
              "    }, 10, root)\n",
              "  }\n",
              "})(window);"
            ],
            "application/vnd.bokehjs_exec.v0+json": ""
          },
          "metadata": {
            "application/vnd.bokehjs_exec.v0+json": {
              "id": "1498"
            }
          }
        },
        {
          "output_type": "display_data",
          "data": {
            "text/html": [
              "\n",
              "  <div class=\"bk-root\" id=\"948449b6-e7d1-43e3-a361-9f90fff0b9cf\" data-root-id=\"1770\"></div>\n"
            ]
          },
          "metadata": {}
        },
        {
          "output_type": "display_data",
          "data": {
            "application/javascript": [
              "(function(root) {\n",
              "  function embed_document(root) {\n",
              "  const docs_json = {\"86cc9019-830e-4d7a-b7cc-4a1f54aaad98\":{\"defs\":[],\"roots\":{\"references\":[{\"attributes\":{\"below\":[{\"id\":\"1781\"}],\"center\":[{\"id\":\"1783\"},{\"id\":\"1787\"},{\"id\":\"1819\"}],\"left\":[{\"id\":\"1784\"}],\"renderers\":[{\"id\":\"1807\"}],\"title\":{\"id\":\"1771\"},\"toolbar\":{\"id\":\"1795\"},\"x_range\":{\"id\":\"1773\"},\"x_scale\":{\"id\":\"1777\"},\"y_range\":{\"id\":\"1775\"},\"y_scale\":{\"id\":\"1779\"}},\"id\":\"1770\",\"subtype\":\"Figure\",\"type\":\"Plot\"},{\"attributes\":{\"fill_alpha\":{\"value\":0.2},\"fill_color\":{\"field\":\"epistles\",\"transform\":{\"id\":\"1802\"}},\"hatch_alpha\":{\"value\":0.2},\"line_alpha\":{\"value\":0.2},\"line_color\":{\"value\":\"white\"},\"top\":{\"field\":\"authenticity\"},\"width\":{\"value\":0.9},\"x\":{\"field\":\"epistles\"}},\"id\":\"1806\",\"type\":\"VBar\"},{\"attributes\":{\"bottom_units\":\"screen\",\"coordinates\":null,\"fill_alpha\":0.5,\"fill_color\":\"lightgrey\",\"group\":null,\"left_units\":\"screen\",\"level\":\"overlay\",\"line_alpha\":1.0,\"line_color\":\"black\",\"line_dash\":[4,4],\"line_width\":2,\"right_units\":\"screen\",\"syncable\":false,\"top_units\":\"screen\"},\"id\":\"1794\",\"type\":\"BoxAnnotation\"},{\"attributes\":{\"fill_alpha\":{\"value\":0.1},\"fill_color\":{\"field\":\"epistles\",\"transform\":{\"id\":\"1802\"}},\"hatch_alpha\":{\"value\":0.1},\"line_alpha\":{\"value\":0.1},\"line_color\":{\"value\":\"white\"},\"top\":{\"field\":\"authenticity\"},\"width\":{\"value\":0.9},\"x\":{\"field\":\"epistles\"}},\"id\":\"1805\",\"type\":\"VBar\"},{\"attributes\":{\"tools\":[{\"id\":\"1788\"},{\"id\":\"1789\"},{\"id\":\"1790\"},{\"id\":\"1791\"},{\"id\":\"1792\"},{\"id\":\"1793\"}]},\"id\":\"1795\",\"type\":\"Toolbar\"},{\"attributes\":{},\"id\":\"1785\",\"type\":\"BasicTicker\"},{\"attributes\":{},\"id\":\"1789\",\"type\":\"WheelZoomTool\"},{\"attributes\":{\"end\":1,\"start\":0},\"id\":\"1775\",\"type\":\"DataRange1d\"},{\"attributes\":{},\"id\":\"1811\",\"type\":\"BasicTickFormatter\"},{\"attributes\":{\"factors\":[\"1 Timothy\",\"2 Thessalonians\",\"2 Timothy\",\"Colossians\",\"Ephesians\",\"Titus\"],\"palette\":[\"#3288bd\",\"#99d594\",\"#e6f598\",\"#fee08b\",\"#fc8d59\",\"#d53e4f\"]},\"id\":\"1802\",\"type\":\"CategoricalColorMapper\"},{\"attributes\":{},\"id\":\"1788\",\"type\":\"PanTool\"},{\"attributes\":{},\"id\":\"1779\",\"type\":\"LinearScale\"},{\"attributes\":{\"coordinates\":null,\"formatter\":{\"id\":\"1811\"},\"group\":null,\"major_label_policy\":{\"id\":\"1812\"},\"ticker\":{\"id\":\"1785\"}},\"id\":\"1784\",\"type\":\"LinearAxis\"},{\"attributes\":{\"coordinates\":null,\"group\":null,\"items\":[{\"id\":\"1820\"}],\"location\":\"top_center\",\"orientation\":\"horizontal\"},\"id\":\"1819\",\"type\":\"Legend\"},{\"attributes\":{},\"id\":\"1792\",\"type\":\"ResetTool\"},{\"attributes\":{},\"id\":\"1814\",\"type\":\"CategoricalTickFormatter\"},{\"attributes\":{},\"id\":\"1791\",\"type\":\"SaveTool\"},{\"attributes\":{\"data\":{\"authenticity\":[0.5929203539823009,0.574468085106383,0.6987951807228916,0.5894736842105263,0.6451612903225806,0.5652173913043478],\"epistles\":[\"1 Timothy\",\"2 Thessalonians\",\"2 Timothy\",\"Colossians\",\"Ephesians\",\"Titus\"]},\"selected\":{\"id\":\"1545\"},\"selection_policy\":{\"id\":\"1544\"}},\"id\":\"1497\",\"type\":\"ColumnDataSource\"},{\"attributes\":{\"overlay\":{\"id\":\"1794\"}},\"id\":\"1790\",\"type\":\"BoxZoomTool\"},{\"attributes\":{},\"id\":\"1812\",\"type\":\"AllLabels\"},{\"attributes\":{},\"id\":\"1815\",\"type\":\"AllLabels\"},{\"attributes\":{\"coordinates\":null,\"group\":null,\"text\":\"Similarity (from least to greatest)\"},\"id\":\"1771\",\"type\":\"Title\"},{\"attributes\":{\"coordinates\":null,\"formatter\":{\"id\":\"1814\"},\"group\":null,\"major_label_policy\":{\"id\":\"1815\"},\"ticker\":{\"id\":\"1782\"}},\"id\":\"1781\",\"type\":\"CategoricalAxis\"},{\"attributes\":{\"axis\":{\"id\":\"1784\"},\"coordinates\":null,\"dimension\":1,\"group\":null,\"ticker\":null},\"id\":\"1787\",\"type\":\"Grid\"},{\"attributes\":{},\"id\":\"1544\",\"type\":\"UnionRenderers\"},{\"attributes\":{\"label\":{\"field\":\"epistles\"},\"renderers\":[{\"id\":\"1807\"}]},\"id\":\"1820\",\"type\":\"LegendItem\"},{\"attributes\":{\"fill_color\":{\"field\":\"epistles\",\"transform\":{\"id\":\"1802\"}},\"line_color\":{\"value\":\"white\"},\"top\":{\"field\":\"authenticity\"},\"width\":{\"value\":0.9},\"x\":{\"field\":\"epistles\"}},\"id\":\"1804\",\"type\":\"VBar\"},{\"attributes\":{},\"id\":\"1793\",\"type\":\"HelpTool\"},{\"attributes\":{\"axis\":{\"id\":\"1781\"},\"coordinates\":null,\"grid_line_color\":null,\"group\":null,\"ticker\":null},\"id\":\"1783\",\"type\":\"Grid\"},{\"attributes\":{},\"id\":\"1545\",\"type\":\"Selection\"},{\"attributes\":{\"factors\":[\"Titus\",\"2 Thessalonians\",\"Colossians\",\"1 Timothy\",\"Ephesians\",\"2 Timothy\"]},\"id\":\"1773\",\"type\":\"FactorRange\"},{\"attributes\":{},\"id\":\"1777\",\"type\":\"CategoricalScale\"},{\"attributes\":{},\"id\":\"1782\",\"type\":\"CategoricalTicker\"},{\"attributes\":{\"source\":{\"id\":\"1497\"}},\"id\":\"1808\",\"type\":\"CDSView\"},{\"attributes\":{\"coordinates\":null,\"data_source\":{\"id\":\"1497\"},\"glyph\":{\"id\":\"1804\"},\"group\":null,\"hover_glyph\":null,\"muted_glyph\":{\"id\":\"1806\"},\"nonselection_glyph\":{\"id\":\"1805\"},\"view\":{\"id\":\"1808\"}},\"id\":\"1807\",\"type\":\"GlyphRenderer\"}],\"root_ids\":[\"1770\"]},\"title\":\"Bokeh Application\",\"version\":\"2.4.3\"}};\n",
              "  const render_items = [{\"docid\":\"86cc9019-830e-4d7a-b7cc-4a1f54aaad98\",\"root_ids\":[\"1770\"],\"roots\":{\"1770\":\"948449b6-e7d1-43e3-a361-9f90fff0b9cf\"}}];\n",
              "  root.Bokeh.embed.embed_items_notebook(docs_json, render_items);\n",
              "  }\n",
              "  if (root.Bokeh !== undefined) {\n",
              "    embed_document(root);\n",
              "  } else {\n",
              "    let attempts = 0;\n",
              "    const timer = setInterval(function(root) {\n",
              "      if (root.Bokeh !== undefined) {\n",
              "        clearInterval(timer);\n",
              "        embed_document(root);\n",
              "      } else {\n",
              "        attempts++;\n",
              "        if (attempts > 100) {\n",
              "          clearInterval(timer);\n",
              "          console.log(\"Bokeh: ERROR: Unable to run BokehJS code because BokehJS library is missing\");\n",
              "        }\n",
              "      }\n",
              "    }, 10, root)\n",
              "  }\n",
              "})(window);"
            ],
            "application/vnd.bokehjs_exec.v0+json": ""
          },
          "metadata": {
            "application/vnd.bokehjs_exec.v0+json": {
              "id": "1770"
            }
          }
        }
      ]
    },
    {
      "cell_type": "markdown",
      "source": [
        "## Summarizing the Results\n",
        "------\n",
        "As the results show, the model seems to demonstrate remarkable continuity amongst even the most disputed of the apostle Paul's letters. Modern consensus is that the Pastoral Epistles are the most disputed of all the epistles ascribed to Paul. Yet, the average of the Pastoral Epistles indicate a 61.8% similarity to the letters with undisputed Pauline authorship.\n",
        "\n",
        "A limitation of the project, however, is that it tokenizes word count, not taking into account phrase count.\n",
        "\n",
        "### Takeaways\n",
        "\n",
        "1.   Perhaps word count alone cannot account for the sum total criteria to determine authorship. Style, historical setting, and theology must still be taken into account to holistically determine authorship.\n",
        "2.   On the other hand, a word count-focused project demonstrates that, at the very least, there is an overlapping pool of words that the disputed letters and undisputed letters have in common, sitting right at around 61% of common words used.  \n",
        "\n"
      ],
      "metadata": {
        "id": "XXB1EKijd6NL"
      },
      "id": "XXB1EKijd6NL"
    },
    {
      "cell_type": "code",
      "source": [],
      "metadata": {
        "id": "3Ptk6OR1jSSb"
      },
      "id": "3Ptk6OR1jSSb",
      "execution_count": null,
      "outputs": []
    }
  ],
  "metadata": {
    "kernelspec": {
      "display_name": "Python 3 (ipykernel)",
      "language": "python",
      "name": "python3"
    },
    "language_info": {
      "codemirror_mode": {
        "name": "ipython",
        "version": 3
      },
      "file_extension": ".py",
      "mimetype": "text/x-python",
      "name": "python",
      "nbconvert_exporter": "python",
      "pygments_lexer": "ipython3",
      "version": "3.10.6"
    },
    "colab": {
      "provenance": [],
      "include_colab_link": true
    }
  },
  "nbformat": 4,
  "nbformat_minor": 5
}
